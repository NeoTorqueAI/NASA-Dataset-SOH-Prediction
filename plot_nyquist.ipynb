{
 "cells": [
  {
   "cell_type": "code",
   "execution_count": 46,
   "metadata": {},
   "outputs": [],
   "source": [
    "import pandas as pd\n",
    "import matplotlib.pyplot as plt\n",
    "import os"
   ]
  },
  {
   "cell_type": "markdown",
   "metadata": {},
   "source": [
    "# === Step 1: Load metadata ===\n"
   ]
  },
  {
   "cell_type": "code",
   "execution_count": 47,
   "metadata": {},
   "outputs": [
    {
     "data": {
      "text/html": [
       "<div>\n",
       "<style scoped>\n",
       "    .dataframe tbody tr th:only-of-type {\n",
       "        vertical-align: middle;\n",
       "    }\n",
       "\n",
       "    .dataframe tbody tr th {\n",
       "        vertical-align: top;\n",
       "    }\n",
       "\n",
       "    .dataframe thead th {\n",
       "        text-align: right;\n",
       "    }\n",
       "</style>\n",
       "<table border=\"1\" class=\"dataframe\">\n",
       "  <thead>\n",
       "    <tr style=\"text-align: right;\">\n",
       "      <th></th>\n",
       "      <th>type</th>\n",
       "      <th>start_time</th>\n",
       "      <th>ambient_temperature</th>\n",
       "      <th>battery_id</th>\n",
       "      <th>test_id</th>\n",
       "      <th>uid</th>\n",
       "      <th>filename</th>\n",
       "      <th>Capacity</th>\n",
       "      <th>Re</th>\n",
       "      <th>Rct</th>\n",
       "    </tr>\n",
       "  </thead>\n",
       "  <tbody>\n",
       "    <tr>\n",
       "      <th>0</th>\n",
       "      <td>discharge</td>\n",
       "      <td>[2010.       7.      21.      15.       0.    ...</td>\n",
       "      <td>4</td>\n",
       "      <td>B0047</td>\n",
       "      <td>0</td>\n",
       "      <td>1</td>\n",
       "      <td>00001.csv</td>\n",
       "      <td>1.6743047446975208</td>\n",
       "      <td>NaN</td>\n",
       "      <td>NaN</td>\n",
       "    </tr>\n",
       "    <tr>\n",
       "      <th>1</th>\n",
       "      <td>impedance</td>\n",
       "      <td>[2010.       7.      21.      16.      53.    ...</td>\n",
       "      <td>24</td>\n",
       "      <td>B0047</td>\n",
       "      <td>1</td>\n",
       "      <td>2</td>\n",
       "      <td>00002.csv</td>\n",
       "      <td>NaN</td>\n",
       "      <td>0.05605783343888099</td>\n",
       "      <td>0.20097016584458333</td>\n",
       "    </tr>\n",
       "    <tr>\n",
       "      <th>2</th>\n",
       "      <td>charge</td>\n",
       "      <td>[2010.       7.      21.      17.      25.    ...</td>\n",
       "      <td>4</td>\n",
       "      <td>B0047</td>\n",
       "      <td>2</td>\n",
       "      <td>3</td>\n",
       "      <td>00003.csv</td>\n",
       "      <td>NaN</td>\n",
       "      <td>NaN</td>\n",
       "      <td>NaN</td>\n",
       "    </tr>\n",
       "  </tbody>\n",
       "</table>\n",
       "</div>"
      ],
      "text/plain": [
       "        type                                         start_time  \\\n",
       "0  discharge  [2010.       7.      21.      15.       0.    ...   \n",
       "1  impedance  [2010.       7.      21.      16.      53.    ...   \n",
       "2     charge  [2010.       7.      21.      17.      25.    ...   \n",
       "\n",
       "   ambient_temperature battery_id  test_id  uid   filename  \\\n",
       "0                    4      B0047        0    1  00001.csv   \n",
       "1                   24      B0047        1    2  00002.csv   \n",
       "2                    4      B0047        2    3  00003.csv   \n",
       "\n",
       "             Capacity                   Re                  Rct  \n",
       "0  1.6743047446975208                  NaN                  NaN  \n",
       "1                 NaN  0.05605783343888099  0.20097016584458333  \n",
       "2                 NaN                  NaN                  NaN  "
      ]
     },
     "execution_count": 47,
     "metadata": {},
     "output_type": "execute_result"
    }
   ],
   "source": [
    "metadata_path = r\"D:\\python\\nasa rul\\NASA Battery Dataset\\metadata.csv\"\n",
    "df_meta = pd.read_csv(metadata_path)\n",
    "df_meta.head(3)"
   ]
  },
  {
   "cell_type": "markdown",
   "metadata": {},
   "source": [
    "# === Step 2: Filter impedance entries ==="
   ]
  },
  {
   "cell_type": "code",
   "execution_count": 48,
   "metadata": {},
   "outputs": [
    {
     "data": {
      "text/html": [
       "<div>\n",
       "<style scoped>\n",
       "    .dataframe tbody tr th:only-of-type {\n",
       "        vertical-align: middle;\n",
       "    }\n",
       "\n",
       "    .dataframe tbody tr th {\n",
       "        vertical-align: top;\n",
       "    }\n",
       "\n",
       "    .dataframe thead th {\n",
       "        text-align: right;\n",
       "    }\n",
       "</style>\n",
       "<table border=\"1\" class=\"dataframe\">\n",
       "  <thead>\n",
       "    <tr style=\"text-align: right;\">\n",
       "      <th></th>\n",
       "      <th>type</th>\n",
       "      <th>start_time</th>\n",
       "      <th>ambient_temperature</th>\n",
       "      <th>battery_id</th>\n",
       "      <th>test_id</th>\n",
       "      <th>uid</th>\n",
       "      <th>filename</th>\n",
       "      <th>Capacity</th>\n",
       "      <th>Re</th>\n",
       "      <th>Rct</th>\n",
       "    </tr>\n",
       "  </thead>\n",
       "  <tbody>\n",
       "    <tr>\n",
       "      <th>0</th>\n",
       "      <td>impedance</td>\n",
       "      <td>[2010.       7.      21.      16.      53.    ...</td>\n",
       "      <td>24</td>\n",
       "      <td>B0047</td>\n",
       "      <td>1</td>\n",
       "      <td>2</td>\n",
       "      <td>00002.csv</td>\n",
       "      <td>NaN</td>\n",
       "      <td>0.05605783343888099</td>\n",
       "      <td>0.20097016584458333</td>\n",
       "    </tr>\n",
       "  </tbody>\n",
       "</table>\n",
       "</div>"
      ],
      "text/plain": [
       "        type                                         start_time  \\\n",
       "0  impedance  [2010.       7.      21.      16.      53.    ...   \n",
       "\n",
       "   ambient_temperature battery_id  test_id  uid   filename Capacity  \\\n",
       "0                   24      B0047        1    2  00002.csv      NaN   \n",
       "\n",
       "                    Re                  Rct  \n",
       "0  0.05605783343888099  0.20097016584458333  "
      ]
     },
     "execution_count": 48,
     "metadata": {},
     "output_type": "execute_result"
    }
   ],
   "source": [
    "impedance_data = df_meta[df_meta[\"type\"]==\"impedance\"].reset_index(drop=True)\n",
    "impedance_data.head(1)"
   ]
  },
  {
   "cell_type": "markdown",
   "metadata": {},
   "source": [
    "*# Show how many impedance tests we have*"
   ]
  },
  {
   "cell_type": "code",
   "execution_count": 49,
   "metadata": {},
   "outputs": [
    {
     "name": "stdout",
     "output_type": "stream",
     "text": [
      "Total impedence files: 1956\n"
     ]
    }
   ],
   "source": [
    "print(f\"Total impedence files: {len(impedance_data)}\")"
   ]
  },
  {
   "cell_type": "markdown",
   "metadata": {},
   "source": [
    "# === Step 3: Pick the first impedance file (you can change index later) ==="
   ]
  },
  {
   "cell_type": "code",
   "execution_count": 50,
   "metadata": {},
   "outputs": [
    {
     "data": {
      "text/plain": [
       "'D:\\\\python\\\\nasa rul\\\\NASA Battery Dataset\\\\data\\\\07561.csv'"
      ]
     },
     "execution_count": 50,
     "metadata": {},
     "output_type": "execute_result"
    }
   ],
   "source": [
    "row = impedance_data.iloc[1955]\n",
    "file_name = row[\"filename\"]\n",
    "imp_file_path = os.path.join(r\"D:\\python\\nasa rul\\NASA Battery Dataset\\data\", file_name)\n",
    "imp_file_path"
   ]
  },
  {
   "cell_type": "markdown",
   "metadata": {},
   "source": [
    "# === Step 4: Load impedance CSV ==="
   ]
  },
  {
   "cell_type": "code",
   "execution_count": 51,
   "metadata": {},
   "outputs": [
    {
     "name": "stdout",
     "output_type": "stream",
     "text": [
      "\\column in the file:\n",
      "Index(['Sense_current', 'Battery_current', 'Current_ratio',\n",
      "       'Battery_impedance', 'Rectified_Impedance'],\n",
      "      dtype='object')\n"
     ]
    },
    {
     "data": {
      "text/html": [
       "<div>\n",
       "<style scoped>\n",
       "    .dataframe tbody tr th:only-of-type {\n",
       "        vertical-align: middle;\n",
       "    }\n",
       "\n",
       "    .dataframe tbody tr th {\n",
       "        vertical-align: top;\n",
       "    }\n",
       "\n",
       "    .dataframe thead th {\n",
       "        text-align: right;\n",
       "    }\n",
       "</style>\n",
       "<table border=\"1\" class=\"dataframe\">\n",
       "  <thead>\n",
       "    <tr style=\"text-align: right;\">\n",
       "      <th></th>\n",
       "      <th>Sense_current</th>\n",
       "      <th>Battery_current</th>\n",
       "      <th>Current_ratio</th>\n",
       "      <th>Battery_impedance</th>\n",
       "      <th>Rectified_Impedance</th>\n",
       "    </tr>\n",
       "  </thead>\n",
       "  <tbody>\n",
       "    <tr>\n",
       "      <th>0</th>\n",
       "      <td>(899.2557983398438-53.335845947265625j)</td>\n",
       "      <td>(257.71893310546875-64.55380249023438j)</td>\n",
       "      <td>(3.332069682152593+0.6276679801864287j)</td>\n",
       "      <td>(0.021403931525420285-0.05255263389122922j)</td>\n",
       "      <td>(0.15099006606152504-0.002707939540964808j)</td>\n",
       "    </tr>\n",
       "    <tr>\n",
       "      <th>1</th>\n",
       "      <td>(895.5841674804688-60.256675720214844j)</td>\n",
       "      <td>(262.35711669921875-58.57901382446289j)</td>\n",
       "      <td>(3.300353663344868+0.5072276629074464j)</td>\n",
       "      <td>(0.0838464132562133-0.1025076049416169j)</td>\n",
       "      <td>(0.15066712064122664-0.0030319165962467767j)</td>\n",
       "    </tr>\n",
       "    <tr>\n",
       "      <th>2</th>\n",
       "      <td>(895.568115234375-66.10527801513672j)</td>\n",
       "      <td>(260.6924133300781-52.82560348510742j)</td>\n",
       "      <td>(3.3492049682965837+0.4250929062908192j)</td>\n",
       "      <td>(0.15374917504757787-0.11550599168610474j)</td>\n",
       "      <td>(0.14852515477567751-0.003086530945686598j)</td>\n",
       "    </tr>\n",
       "  </tbody>\n",
       "</table>\n",
       "</div>"
      ],
      "text/plain": [
       "                             Sense_current  \\\n",
       "0  (899.2557983398438-53.335845947265625j)   \n",
       "1  (895.5841674804688-60.256675720214844j)   \n",
       "2    (895.568115234375-66.10527801513672j)   \n",
       "\n",
       "                           Battery_current  \\\n",
       "0  (257.71893310546875-64.55380249023438j)   \n",
       "1  (262.35711669921875-58.57901382446289j)   \n",
       "2   (260.6924133300781-52.82560348510742j)   \n",
       "\n",
       "                              Current_ratio  \\\n",
       "0   (3.332069682152593+0.6276679801864287j)   \n",
       "1   (3.300353663344868+0.5072276629074464j)   \n",
       "2  (3.3492049682965837+0.4250929062908192j)   \n",
       "\n",
       "                             Battery_impedance  \\\n",
       "0  (0.021403931525420285-0.05255263389122922j)   \n",
       "1     (0.0838464132562133-0.1025076049416169j)   \n",
       "2   (0.15374917504757787-0.11550599168610474j)   \n",
       "\n",
       "                            Rectified_Impedance  \n",
       "0   (0.15099006606152504-0.002707939540964808j)  \n",
       "1  (0.15066712064122664-0.0030319165962467767j)  \n",
       "2   (0.14852515477567751-0.003086530945686598j)  "
      ]
     },
     "execution_count": 51,
     "metadata": {},
     "output_type": "execute_result"
    }
   ],
   "source": [
    "df_imp = pd.read_csv(imp_file_path)\n",
    "print(f\"\\column in the file:\\n{df_imp.columns}\")\n",
    "df_imp.head(3)"
   ]
  },
  {
   "cell_type": "markdown",
   "metadata": {},
   "source": [
    "# === Step 5: Use Rectified_Impedance as our complex Z ===\n",
    "**# These are complex numbers like (a + bj)**"
   ]
  },
  {
   "cell_type": "code",
   "execution_count": 52,
   "metadata": {},
   "outputs": [],
   "source": [
    "def safe_complex(x):\n",
    "    try:\n",
    "        if isinstance(x, str):\n",
    "            return complex(x.replace(' ', ''))\n",
    "        elif isinstance(x, complex):\n",
    "            return x\n",
    "        else:\n",
    "            return complex(0, 0)  # fallback for NaN or unexpected type\n",
    "    except:\n",
    "        return complex(0, 0)\n",
    "\n",
    "# Step 1: Clean and convert to complex\n",
    "z = df_imp['Rectified_Impedance'].apply(safe_complex)\n",
    "\n",
    "# Step 2: Extract real and imaginary parts\n",
    "z_real = z.apply(lambda x: x.real)\n",
    "z_imag = z.apply(lambda x: x.imag)\n",
    "\n"
   ]
  },
  {
   "cell_type": "markdown",
   "metadata": {},
   "source": [
    "# Step 6: Plotting the Nyquist plot"
   ]
  },
  {
   "cell_type": "code",
   "execution_count": 53,
   "metadata": {},
   "outputs": [
    {
     "data": {
      "image/png": "[encoded data removed]",
      "text/plain": [
       "<Figure size 1000x500 with 1 Axes>"
      ]
     },
     "metadata": {},
     "output_type": "display_data"
    }
   ],
   "source": [
    "plt.figure(figsize=(10,5))\n",
    "plt.plot(z_real,-z_imag,'o-',markersize =4)\n",
    "plt.xlabel(\"Z′ (Real Part) [Ohm]\")\n",
    "plt.ylabel(\"−Z″ (Imaginary Part) [Ohm]\")\n",
    "plt.title(\"Nyquist Plot of Impedance\")\n",
    "plt.grid(True)\n",
    "plt.axis('equal')\n",
    "plt.tight_layout()\n",
    "plt.show()"
   ]
  },
  {
   "cell_type": "code",
   "execution_count": null,
   "metadata": {},
   "outputs": [],
   "source": []
  }
 ],
 "metadata": {
  "kernelspec": {
   "display_name": "Python 3",
   "language": "python",
   "name": "python3"
  },
  "language_info": {
   "codemirror_mode": {
    "name": "ipython",
    "version": 3
   },
   "file_extension": ".py",
   "mimetype": "text/x-python",
   "name": "python",
   "nbconvert_exporter": "python",
   "pygments_lexer": "ipython3",
   "version": "3.10.0"
  },
  "orig_nbformat": 4
 },
 "nbformat": 4,
 "nbformat_minor": 2
}
